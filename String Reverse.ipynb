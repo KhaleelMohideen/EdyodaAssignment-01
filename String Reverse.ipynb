{
 "cells": [
  {
   "cell_type": "code",
   "execution_count": 1,
   "id": "4f8aa631",
   "metadata": {},
   "outputs": [
    {
     "name": "stdout",
     "output_type": "stream",
     "text": [
      "Input :Khaleel\n",
      "Output : leelahK\n"
     ]
    }
   ],
   "source": [
    "a=input(\"Input :\")\n",
    "b=\"\"\n",
    "for i in a:\n",
    "    b=i+b\n",
    "print(\"Output :\",b)"
   ]
  },
  {
   "cell_type": "code",
   "execution_count": null,
   "id": "2269d17c",
   "metadata": {},
   "outputs": [],
   "source": []
  }
 ],
 "metadata": {
  "kernelspec": {
   "display_name": "Python 3 (ipykernel)",
   "language": "python",
   "name": "python3"
  },
  "language_info": {
   "codemirror_mode": {
    "name": "ipython",
    "version": 3
   },
   "file_extension": ".py",
   "mimetype": "text/x-python",
   "name": "python",
   "nbconvert_exporter": "python",
   "pygments_lexer": "ipython3",
   "version": "3.10.2"
  }
 },
 "nbformat": 4,
 "nbformat_minor": 5
}
