{
 "cells": [
  {
   "cell_type": "code",
   "execution_count": 11,
   "id": "bad6de97",
   "metadata": {},
   "outputs": [
    {
     "name": "stdout",
     "output_type": "stream",
     "text": [
      "Number oF Even Numbers: 7\n",
      "Number oF Odd Numbers: 9\n"
     ]
    }
   ],
   "source": [
    "number = [1,2,3,4,5,6,7,8,9,11,12,13,14,15,16,17]\n",
    "odd,even=0,0\n",
    "for i in number:\n",
    "    if i % 2 == 0:\n",
    "        even += 1\n",
    "    else:\n",
    "        odd +=1\n",
    "print(\"Number oF Even Numbers:\",even)\n",
    "print(\"Number oF Odd Numbers:\",odd)"
   ]
  },
  {
   "cell_type": "code",
   "execution_count": null,
   "id": "92d2689a",
   "metadata": {},
   "outputs": [],
   "source": []
  }
 ],
 "metadata": {
  "kernelspec": {
   "display_name": "Python 3 (ipykernel)",
   "language": "python",
   "name": "python3"
  },
  "language_info": {
   "codemirror_mode": {
    "name": "ipython",
    "version": 3
   },
   "file_extension": ".py",
   "mimetype": "text/x-python",
   "name": "python",
   "nbconvert_exporter": "python",
   "pygments_lexer": "ipython3",
   "version": "3.10.2"
  }
 },
 "nbformat": 4,
 "nbformat_minor": 5
}
